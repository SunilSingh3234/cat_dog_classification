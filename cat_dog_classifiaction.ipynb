{
 "cells": [
  {
   "cell_type": "code",
   "execution_count": 9,
   "id": "5be5806e-f228-4108-a5d2-fed9451cfeb9",
   "metadata": {},
   "outputs": [],
   "source": [
    "import os\n",
    "import numpy as np\n",
    "# import tensorflow as tf\n",
    "import matplotlib.pyplot as plt\n",
    "import pandas as pd\n",
    "# from tensorflow.keras.models import Sequential\n",
    "# from tensorflow.keras.layers import Conv2D , MaxPooling2D, Flatten, Dense \n"
   ]
  },
  {
   "cell_type": "code",
   "execution_count": 10,
   "id": "a09ccaab",
   "metadata": {},
   "outputs": [],
   "source": [
    "current_path = os.getcwd()"
   ]
  },
  {
   "cell_type": "code",
   "execution_count": 11,
   "id": "569bba65",
   "metadata": {},
   "outputs": [
    {
     "name": "stdout",
     "output_type": "stream",
     "text": [
      "Total length of dogs: 348\n"
     ]
    }
   ],
   "source": [
    "print(\"Total length of dogs:\",len(os.listdir(os.path.join(current_path,'Data','images','dogs'))))"
   ]
  },
  {
   "cell_type": "code",
   "execution_count": 12,
   "id": "271e5593",
   "metadata": {},
   "outputs": [
    {
     "name": "stdout",
     "output_type": "stream",
     "text": [
      "Total length of dogs: 349\n"
     ]
    }
   ],
   "source": [
    "print(\"Total length of dogs:\",len(os.listdir(os.path.join(current_path,'Data','images','cats'))))"
   ]
  },
  {
   "cell_type": "code",
   "execution_count": 15,
   "id": "2c851204",
   "metadata": {},
   "outputs": [],
   "source": [
    "image_dir = os.path.join(current_path,'Data','images')"
   ]
  },
  {
   "cell_type": "code",
   "execution_count": 16,
   "id": "2d4e4de4",
   "metadata": {},
   "outputs": [
    {
     "data": {
      "text/plain": [
       "['cats', 'dogs']"
      ]
     },
     "execution_count": 16,
     "metadata": {},
     "output_type": "execute_result"
    }
   ],
   "source": [
    "os.listdir(image_dir)"
   ]
  },
  {
   "cell_type": "code",
   "execution_count": 17,
   "id": "42639340",
   "metadata": {},
   "outputs": [],
   "source": [
    "cat_dog_dict = {'cats':[],'dogs':[]}\n",
    "for dir in os.listdir(image_dir):\n",
    "    directory_path = os.path.join(image_dir,dir)\n",
    "    for images in os.listdir(directory_path):\n",
    "        cat_dog_dict[dir].append(os.path.join(directory_path,images))"
   ]
  },
  {
   "cell_type": "code",
   "execution_count": 26,
   "id": "a7e6c572",
   "metadata": {},
   "outputs": [],
   "source": [
    "# !pip install pillow\n",
    "from PIL import Image\n",
    "def load_image(image_path):\n",
    "    image = Image.open(image_path)\n",
    "    image = image.resize((128, 128))  # Resize to a fixed size\n",
    "    return np.array(image)"
   ]
  },
  {
   "cell_type": "code",
   "execution_count": null,
   "id": "2f1ab81f",
   "metadata": {},
   "outputs": [],
   "source": [
    "from sklearn.model_selection import train_test_split\n",
    "X_train, X_test, y_train, y_test = train_test_split(cat_dog_dict['cats'] + cat_dog_dict['dogs'],"
   ]
  }
 ],
 "metadata": {
  "kernelspec": {
   "display_name": "base",
   "language": "python",
   "name": "python3"
  },
  "language_info": {
   "codemirror_mode": {
    "name": "ipython",
    "version": 3
   },
   "file_extension": ".py",
   "mimetype": "text/x-python",
   "name": "python",
   "nbconvert_exporter": "python",
   "pygments_lexer": "ipython3",
   "version": "3.12.4"
  }
 },
 "nbformat": 4,
 "nbformat_minor": 5
}
